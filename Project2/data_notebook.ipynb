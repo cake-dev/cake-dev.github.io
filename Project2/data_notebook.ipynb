{
 "cells": [
  {
   "cell_type": "code",
   "execution_count": null,
   "metadata": {},
   "outputs": [],
   "source": [
    "import pandas as pd\n",
    "import geopandas as gpd\n",
    "import numpy as np\n",
    "import plotly.express as px\n",
    "pd.set_option('display.max_columns', None)\n",
    "pd.set_option('display.max_rows', 200)"
   ]
  },
  {
   "cell_type": "code",
   "execution_count": null,
   "metadata": {},
   "outputs": [],
   "source": [
    "df_states = gpd.read_file('Data/us-states.json')\n",
    "df_fires = gpd.read_file('Data/mtbs_fire_locations.geojson')"
   ]
  },
  {
   "cell_type": "code",
   "execution_count": null,
   "metadata": {},
   "outputs": [],
   "source": [
    "df_states"
   ]
  },
  {
   "cell_type": "code",
   "execution_count": null,
   "metadata": {},
   "outputs": [],
   "source": [
    "df_western_us = df_states[df_states['name'].isin(['California', 'Oregon', 'Washington', 'Nevada', 'Arizona', 'Idaho', 'Montana', 'Utah', 'Wyoming', 'Colorado', 'New Mexico'])]"
   ]
  },
  {
   "cell_type": "code",
   "execution_count": null,
   "metadata": {},
   "outputs": [],
   "source": [
    "df_western_us.plot()"
   ]
  },
  {
   "cell_type": "code",
   "execution_count": null,
   "metadata": {},
   "outputs": [],
   "source": [
    "gpd.GeoDataFrame(df_western_us).to_file('Data/western_us.geojson', driver='GeoJSON')"
   ]
  },
  {
   "cell_type": "code",
   "execution_count": null,
   "metadata": {},
   "outputs": [],
   "source": [
    "df_fires[\"Ig_Date\"] = pd.to_datetime(df_fires[\"Ig_Date\"])"
   ]
  },
  {
   "cell_type": "code",
   "execution_count": null,
   "metadata": {},
   "outputs": [],
   "source": [
    "def timestamp_to_year_part(df):\n",
    "    date = df[\"Ig_Date\"][0]\n",
    "    year = int(date.strftime(\"%Y\"))\n",
    "    print('{} / {}'.format(date,year))\n",
    "    df.year.values[:] = year\n",
    "    return df"
   ]
  },
  {
   "cell_type": "code",
   "execution_count": null,
   "metadata": {},
   "outputs": [],
   "source": [
    "df_fires"
   ]
  },
  {
   "cell_type": "code",
   "execution_count": null,
   "metadata": {},
   "outputs": [],
   "source": [
    "date_mask_1985 = (df_fires[\"Ig_Date\"] >= '1985-01-01') & (df_fires[\"Ig_Date\"] <= '1985-12-31')\n",
    "date_mask_2015 = (df_fires[\"Ig_Date\"] >= '2015-01-01') & (df_fires[\"Ig_Date\"] <= '2015-12-31')\n",
    "fire_type_mask = (df_fires[\"Incid_Type\"] != 'Prescribed Fire')\n",
    "fire_size_mask = (df_fires[\"BurnBndAc\"] >= 5000)\n",
    "fire_location_mask = (df_fires[\"geometry\"].within(df_western_us.unary_union))"
   ]
  },
  {
   "cell_type": "code",
   "execution_count": null,
   "metadata": {},
   "outputs": [],
   "source": [
    "fires_1985 = df_fires[date_mask_1985 & fire_type_mask & fire_size_mask & fire_location_mask]\n",
    "fires_2015 = df_fires[date_mask_2015 & fire_type_mask & fire_size_mask & fire_location_mask]"
   ]
  },
  {
   "cell_type": "code",
   "execution_count": null,
   "metadata": {},
   "outputs": [],
   "source": [
    "fires_1985.to_csv('Data/fires_1985.csv')\n",
    "fires_2015.to_csv('Data/fires_2015.csv')"
   ]
  },
  {
   "cell_type": "code",
   "execution_count": null,
   "metadata": {},
   "outputs": [],
   "source": [
    "gpd.GeoDataFrame(fires_1985).to_file(\"Data/fires_1985.geojson\", driver='GeoJSON')\n",
    "gpd.GeoDataFrame(fires_2015).to_file(\"Data/fires_2015.geojson\", driver='GeoJSON')"
   ]
  },
  {
   "cell_type": "code",
   "execution_count": null,
   "metadata": {},
   "outputs": [],
   "source": [
    "df_fires.assign(year=np.int32(0))\n",
    "df_fires = df_fires.apply(timestamp_to_year_part, axis=1)"
   ]
  },
  {
   "cell_type": "code",
   "execution_count": null,
   "metadata": {},
   "outputs": [],
   "source": [
    "fires_2015[\"BurnBndAc\"].min()"
   ]
  },
  {
   "cell_type": "code",
   "execution_count": null,
   "metadata": {},
   "outputs": [],
   "source": [
    "fires_2015[\"BurnBndAc\"].max()"
   ]
  },
  {
   "cell_type": "code",
   "execution_count": null,
   "metadata": {},
   "outputs": [],
   "source": [
    "fires_2015[\"BurnBndAc\"].describe()"
   ]
  },
  {
   "cell_type": "code",
   "execution_count": null,
   "metadata": {},
   "outputs": [],
   "source": [
    "ag = pd.read_csv(\"Data/us-ag-productivity-2004.csv\")"
   ]
  },
  {
   "cell_type": "code",
   "execution_count": 20,
   "metadata": {},
   "outputs": [],
   "source": [
    "ag_out = ag[ag['state'].isin(['California', 'Oregon', 'Washington', 'Nevada', 'Arizona', 'Idaho', 'Montana', 'Utah', 'Wyoming', 'Colorado', 'New Mexico'])]"
   ]
  },
  {
   "cell_type": "code",
   "execution_count": 21,
   "metadata": {},
   "outputs": [
    {
     "data": {
      "text/html": [
       "<div>\n",
       "<style scoped>\n",
       "    .dataframe tbody tr th:only-of-type {\n",
       "        vertical-align: middle;\n",
       "    }\n",
       "\n",
       "    .dataframe tbody tr th {\n",
       "        vertical-align: top;\n",
       "    }\n",
       "\n",
       "    .dataframe thead th {\n",
       "        text-align: right;\n",
       "    }\n",
       "</style>\n",
       "<table border=\"1\" class=\"dataframe\">\n",
       "  <thead>\n",
       "    <tr style=\"text-align: right;\">\n",
       "      <th></th>\n",
       "      <th>state</th>\n",
       "      <th>value</th>\n",
       "    </tr>\n",
       "  </thead>\n",
       "  <tbody>\n",
       "    <tr>\n",
       "      <th>2</th>\n",
       "      <td>Arizona</td>\n",
       "      <td>1.3847</td>\n",
       "    </tr>\n",
       "    <tr>\n",
       "      <th>3</th>\n",
       "      <td>California</td>\n",
       "      <td>1.7979</td>\n",
       "    </tr>\n",
       "    <tr>\n",
       "      <th>4</th>\n",
       "      <td>Colorado</td>\n",
       "      <td>1.0325</td>\n",
       "    </tr>\n",
       "    <tr>\n",
       "      <th>10</th>\n",
       "      <td>Idaho</td>\n",
       "      <td>1.4285</td>\n",
       "    </tr>\n",
       "    <tr>\n",
       "      <th>23</th>\n",
       "      <td>Montana</td>\n",
       "      <td>0.8145</td>\n",
       "    </tr>\n",
       "    <tr>\n",
       "      <th>29</th>\n",
       "      <td>New Mexico</td>\n",
       "      <td>0.8925</td>\n",
       "    </tr>\n",
       "    <tr>\n",
       "      <th>30</th>\n",
       "      <td>Nevada</td>\n",
       "      <td>0.9640</td>\n",
       "    </tr>\n",
       "    <tr>\n",
       "      <th>34</th>\n",
       "      <td>Oregon</td>\n",
       "      <td>1.3154</td>\n",
       "    </tr>\n",
       "    <tr>\n",
       "      <th>41</th>\n",
       "      <td>Utah</td>\n",
       "      <td>0.9638</td>\n",
       "    </tr>\n",
       "    <tr>\n",
       "      <th>44</th>\n",
       "      <td>Washington</td>\n",
       "      <td>1.1457</td>\n",
       "    </tr>\n",
       "    <tr>\n",
       "      <th>47</th>\n",
       "      <td>Wyoming</td>\n",
       "      <td>0.5712</td>\n",
       "    </tr>\n",
       "  </tbody>\n",
       "</table>\n",
       "</div>"
      ],
      "text/plain": [
       "         state   value\n",
       "2      Arizona  1.3847\n",
       "3   California  1.7979\n",
       "4     Colorado  1.0325\n",
       "10       Idaho  1.4285\n",
       "23     Montana  0.8145\n",
       "29  New Mexico  0.8925\n",
       "30      Nevada  0.9640\n",
       "34      Oregon  1.3154\n",
       "41        Utah  0.9638\n",
       "44  Washington  1.1457\n",
       "47     Wyoming  0.5712"
      ]
     },
     "execution_count": 21,
     "metadata": {},
     "output_type": "execute_result"
    }
   ],
   "source": [
    "ag_out.to_csv('Data/western_ag.csv')"
   ]
  }
 ],
 "metadata": {
  "kernelspec": {
   "display_name": "Python 3.8.13 ('rstools')",
   "language": "python",
   "name": "python3"
  },
  "language_info": {
   "codemirror_mode": {
    "name": "ipython",
    "version": 3
   },
   "file_extension": ".py",
   "mimetype": "text/x-python",
   "name": "python",
   "nbconvert_exporter": "python",
   "pygments_lexer": "ipython3",
   "version": "3.8.13"
  },
  "orig_nbformat": 4,
  "vscode": {
   "interpreter": {
    "hash": "74433767b723a45c483350c3d47eaaf29169a313b081c7ff587871958aa1c787"
   }
  }
 },
 "nbformat": 4,
 "nbformat_minor": 2
}
