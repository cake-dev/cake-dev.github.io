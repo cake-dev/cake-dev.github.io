{
 "cells": [
  {
   "cell_type": "code",
   "execution_count": 3,
   "metadata": {},
   "outputs": [],
   "source": [
    "import networkx as nx\n",
    "import simplejson as json\n",
    "from networkx.readwrite import json_graph\n",
    "import matplotlib.pyplot as plt\n",
    "import pandas as pd\n",
    "import numpy as np\n",
    "import plotly\n",
    "import plotly.graph_objs as go\n",
    "import plotly.express as px"
   ]
  },
  {
   "cell_type": "code",
   "execution_count": null,
   "metadata": {},
   "outputs": [],
   "source": [
    "# parse the gml file and build the graph object\n",
    "g = nx.read_gml('networks/data/karate.gml', label='id')\n",
    "# create a dictionary in a node-link format that is suitable for JSON serialization\n",
    "# d = json_graph.node_link_data(g)\n",
    "# with open('networks/data/power_grid_westernus.json', 'w') as fp:\n",
    "#     json.dump(d, fp)"
   ]
  },
  {
   "cell_type": "code",
   "execution_count": null,
   "metadata": {},
   "outputs": [],
   "source": [
    "nx.adjacency_data(g)"
   ]
  },
  {
   "cell_type": "code",
   "execution_count": null,
   "metadata": {},
   "outputs": [],
   "source": [
    "nx.draw(g, with_labels=True)"
   ]
  },
  {
   "cell_type": "code",
   "execution_count": null,
   "metadata": {},
   "outputs": [],
   "source": [
    "vote_data = pd.read_csv('networks/data/house_votes_2022_curated.csv')"
   ]
  },
  {
   "cell_type": "code",
   "execution_count": null,
   "metadata": {},
   "outputs": [],
   "source": [
    "vote_data[\"DATE\"] = pd.to_datetime(vote_data[\"DATE\"])"
   ]
  },
  {
   "cell_type": "code",
   "execution_count": null,
   "metadata": {},
   "outputs": [],
   "source": [
    "vote_data[\"DATE\"] = vote_data[\"DATE\"].dt.date"
   ]
  },
  {
   "cell_type": "code",
   "execution_count": null,
   "metadata": {},
   "outputs": [],
   "source": [
    "vote_data.sort_values(by=['DATE'], inplace=True)"
   ]
  },
  {
   "cell_type": "code",
   "execution_count": null,
   "metadata": {},
   "outputs": [],
   "source": [
    "vote_data.reset_index(drop=True, inplace=True)"
   ]
  },
  {
   "cell_type": "code",
   "execution_count": null,
   "metadata": {},
   "outputs": [],
   "source": [
    "vote_data[\"REPRESENTATIVE\"] = vote_data[\"REPRESENTATIVE\"].astype(str)"
   ]
  },
  {
   "cell_type": "code",
   "execution_count": null,
   "metadata": {},
   "outputs": [],
   "source": [
    "vote_data[\"index\"] = np.arange(len(vote_data))"
   ]
  },
  {
   "cell_type": "code",
   "execution_count": null,
   "metadata": {},
   "outputs": [],
   "source": [
    "yea_nay_totals = vote_data.groupby([\"BILL\", \"VOTE\"]).count()"
   ]
  },
  {
   "cell_type": "code",
   "execution_count": null,
   "metadata": {},
   "outputs": [],
   "source": [
    "reps_voted_yea_on_same_bill = vote_data[vote_data[\"VOTE\"] == \"YEA\"].groupby([\"BILL\", \"REPRESENTATIVE\", \"PARTY\"]).count()"
   ]
  },
  {
   "cell_type": "code",
   "execution_count": null,
   "metadata": {},
   "outputs": [],
   "source": [
    "reps_voted_nay_on_same_bill = vote_data[vote_data[\"VOTE\"] == \"NAY\"].groupby([\"BILL\", \"REPRESENTATIVE\", \"PARTY\"]).count()"
   ]
  },
  {
   "cell_type": "code",
   "execution_count": null,
   "metadata": {},
   "outputs": [],
   "source": [
    "reps_voted_same_on_bill = vote_data.groupby([\"BILL\", \"REPRESENTATIVE\", \"PARTY\", \"VOTE\", \"DATE\", \"BILL_NAME\", \"COMMITTEE\", \"STATE\"]).count()"
   ]
  },
  {
   "cell_type": "code",
   "execution_count": null,
   "metadata": {},
   "outputs": [],
   "source": [
    "voted_same_df = reps_voted_same_on_bill.reset_index()"
   ]
  },
  {
   "cell_type": "code",
   "execution_count": null,
   "metadata": {},
   "outputs": [],
   "source": [
    "reps_voted_same_on_bill.to_csv('networks/data/reps_voted_same_on_bill.csv')"
   ]
  },
  {
   "cell_type": "code",
   "execution_count": null,
   "metadata": {},
   "outputs": [],
   "source": [
    "def create_node_link_json_from_vote_data(vote_data, reps_voted_yea_on_same_bill, reps_voted_nay_on_same_bill):\n",
    "    nodes = []\n",
    "    links = []\n",
    "    for index, row in vote_data.iterrows():\n",
    "        print(index)\n",
    "        nodes.append({\"id\": row[\"REPRESENTATIVE\"], \"group\": row[\"PARTY\"], \"vote\": row[\"VOTE\"], \"bill\": row[\"BILL\"], \"date\": row[\"DATE\"].strftime(\"%Y-%m-%d\")})\n",
    "    for index, row in reps_voted_yea_on_same_bill.iterrows():\n",
    "        links.append({\"source\": index[0], \"target\": index[1], \"value\": row[\"index\"]})\n",
    "    for index, row in reps_voted_nay_on_same_bill.iterrows():\n",
    "        links.append({\"source\": index[0], \"target\": index[1], \"value\": row[\"index\"]})\n",
    "    return {\"nodes\": nodes, \"links\": links}"
   ]
  },
  {
   "cell_type": "code",
   "execution_count": null,
   "metadata": {},
   "outputs": [],
   "source": [
    "def nodes_links_same_votes(vote_data, reps_voted_same_on_bill):\n",
    "    nodes = []\n",
    "    links = []\n",
    "    for index, row in vote_data.iterrows():\n",
    "        nodes.append({\"id\": row[\"REPRESENTATIVE\"], \"group\": row[\"PARTY\"], \"vote\": row[\"VOTE\"], \"bill\": row[\"BILL\"], \"date\": row[\"DATE\"].strftime(\"%Y-%m-%d\")})\n",
    "    for index, row in reps_voted_same_on_bill.iterrows():\n",
    "        links.append({\"source\": index[0], \"target\": index[1], \"value\": row[\"index\"]})\n",
    "    return {\"nodes\": nodes, \"links\": links}"
   ]
  },
  {
   "cell_type": "code",
   "execution_count": null,
   "metadata": {},
   "outputs": [],
   "source": [
    "net_data = nodes_links_same_votes(vote_data, reps_voted_same_on_bill)"
   ]
  },
  {
   "cell_type": "code",
   "execution_count": null,
   "metadata": {},
   "outputs": [],
   "source": [
    "net_data"
   ]
  },
  {
   "cell_type": "code",
   "execution_count": null,
   "metadata": {},
   "outputs": [],
   "source": [
    "with open('networks/data/house_votes_2022_curated.json', 'w') as fp:\n",
    "    json.dump(net_data, fp)"
   ]
  },
  {
   "cell_type": "code",
   "execution_count": null,
   "metadata": {},
   "outputs": [],
   "source": [
    "def convert_yea_nay_to_binary(vote_data):\n",
    "    vote_data[\"VOTE\"] = vote_data[\"VOTE\"].apply(lambda x: 1 if x == \"YEA\" else 0)\n",
    "    return vote_data"
   ]
  },
  {
   "cell_type": "code",
   "execution_count": null,
   "metadata": {},
   "outputs": [],
   "source": [
    "vote_data = convert_yea_nay_to_binary(vote_data)"
   ]
  },
  {
   "cell_type": "code",
   "execution_count": null,
   "metadata": {},
   "outputs": [],
   "source": [
    "def create_same_votes_heatmap(vote_data):\n",
    "    same_votes = vote_data.groupby([\"BILL\", \"REPRESENTATIVE\", \"PARTY\", \"VOTE\"]).count()\n",
    "    same_votes = same_votes.reset_index()\n",
    "    same_votes = same_votes.pivot(index=[\"REPRESENTATIVE\", \"PARTY\"], columns=\"BILL\", values=\"VOTE\")\n",
    "    same_votes = same_votes.fillna(0)\n",
    "    return same_votes"
   ]
  },
  {
   "cell_type": "code",
   "execution_count": null,
   "metadata": {},
   "outputs": [],
   "source": [
    "s_v = create_same_votes_heatmap(vote_data)"
   ]
  },
  {
   "cell_type": "code",
   "execution_count": null,
   "metadata": {},
   "outputs": [],
   "source": [
    "values = [0]"
   ]
  },
  {
   "cell_type": "code",
   "execution_count": null,
   "metadata": {},
   "outputs": [],
   "source": [
    "samevotes_fixed = svhm[svhm['1319'] !='0']"
   ]
  },
  {
   "cell_type": "code",
   "execution_count": null,
   "metadata": {},
   "outputs": [],
   "source": [
    "samevotes_fixed = samevotes_fixed[samevotes_fixed['8404'] !='0']"
   ]
  },
  {
   "cell_type": "code",
   "execution_count": null,
   "metadata": {},
   "outputs": [],
   "source": [
    "bills_passed_samevotes = samevotes_fixed[samevotes_fixed['1319'] == samevotes_fixed['8404']]"
   ]
  },
  {
   "cell_type": "code",
   "execution_count": null,
   "metadata": {},
   "outputs": [],
   "source": [
    "samevotes_fixed = pd.read_csv('networks/data/samevotes_fixed.csv')"
   ]
  },
  {
   "cell_type": "code",
   "execution_count": null,
   "metadata": {},
   "outputs": [],
   "source": [
    "with open('networks/data/house_votes_network.json', 'w') as fp:\n",
    "    json.dump(net_data, fp)"
   ]
  },
  {
   "cell_type": "markdown",
   "metadata": {},
   "source": [
    "### all votes for the 1st and 2nd Sessions of the 117th Congress (House of Representatives)"
   ]
  },
  {
   "cell_type": "code",
   "execution_count": null,
   "metadata": {},
   "outputs": [],
   "source": [
    "congress_members = pd.read_csv('networks/data/congress/H117_members.csv')"
   ]
  },
  {
   "cell_type": "code",
   "execution_count": null,
   "metadata": {},
   "outputs": [],
   "source": [
    "def party_code_to_party_name_in_df_column(df, column_name):\n",
    "    df[column_name] = df[column_name].apply(lambda x: \"Democrat\" if x == 100 else \"Republican\")\n",
    "    return df"
   ]
  },
  {
   "cell_type": "code",
   "execution_count": null,
   "metadata": {},
   "outputs": [],
   "source": [
    "congress_mems = party_code_to_party_name_in_df_column(congress_members, \"party_code\")"
   ]
  },
  {
   "cell_type": "code",
   "execution_count": null,
   "metadata": {},
   "outputs": [],
   "source": [
    "def match_value_to_icpsr(df):\n",
    "    # df[\"nomdim1\"] = df[\"icpsr\"].apply(lambda x: congress_mems[congress_mems[\"icpsr\"] == x][\"nominate_dim1\"].values[0])\n",
    "    # df[\"rep_name\"] = df[\"icpsr\"].apply(lambda x: congress_mems[congress_mems[\"icpsr\"] == x][\"bioname\"].values[0])\n",
    "    # df[\"party\"] = df[\"icpsr\"].apply(lambda x: congress_mems[congress_mems[\"icpsr\"] == x][\"party_code\"].values[0])\n",
    "    # df[\"born\"] = df[\"icpsr\"].apply(lambda x: congress_mems[congress_mems[\"icpsr\"] == x][\"born\"].values[0])\n",
    "    df[\"state\"] = df[\"icpsr\"].apply(lambda x: congress_mems[congress_mems[\"icpsr\"] == x][\"state_abbrev\"].values[0])\n",
    "    return df"
   ]
  },
  {
   "cell_type": "code",
   "execution_count": null,
   "metadata": {},
   "outputs": [],
   "source": [
    "data = match_value_to_icpsr(all_votes_117)"
   ]
  },
  {
   "cell_type": "code",
   "execution_count": null,
   "metadata": {},
   "outputs": [],
   "source": [
    "def get_times_reps_voted_same(votes_all_fixed):\n",
    "    same_votes = votes_all_fixed.groupby([\"rollnumber\", \"icpsr\", \"party\", \"cast_code\", \"rep_name\", \"nomdim1\", \"age\"]).count()\n",
    "    same_votes = same_votes.reset_index()\n",
    "    same_votes = same_votes.pivot(index=[\"icpsr\", \"party\", \"rep_name\", \"nomdim1\", \"age\"], columns=\"rollnumber\", values=\"cast_code\")\n",
    "    same_votes = same_votes.fillna(0)\n",
    "    return same_votes"
   ]
  },
  {
   "cell_type": "code",
   "execution_count": null,
   "metadata": {},
   "outputs": [],
   "source": [
    "d2 = get_times_reps_voted_same(data)"
   ]
  },
  {
   "cell_type": "code",
   "execution_count": null,
   "metadata": {},
   "outputs": [],
   "source": [
    "d2.sort_values(by=\"nomdim1\", ascending=False, inplace=True)"
   ]
  },
  {
   "cell_type": "code",
   "execution_count": 4,
   "metadata": {},
   "outputs": [],
   "source": [
    "v_d = pd.read_csv('networks/data/congress/same_votes.csv')"
   ]
  },
  {
   "cell_type": "code",
   "execution_count": 6,
   "metadata": {},
   "outputs": [],
   "source": [
    "num_votes_per_rep = v_d.groupby([\"icpsr\", \"party\", \"rep_name\", \"nomdim1\", \"age\"]).count()"
   ]
  },
  {
   "cell_type": "code",
   "execution_count": 12,
   "metadata": {},
   "outputs": [],
   "source": [
    "def drop_rows_with_more_than_n_zero_values(df, n):\n",
    "    df = df[(df == 0).sum(axis=1) <= n]\n",
    "    return df"
   ]
  },
  {
   "cell_type": "code",
   "execution_count": 15,
   "metadata": {},
   "outputs": [],
   "source": [
    "v_d_f = drop_rows_with_more_than_n_zero_values(v_d, 50)"
   ]
  },
  {
   "cell_type": "code",
   "execution_count": 16,
   "metadata": {},
   "outputs": [
    {
     "data": {
      "text/html": [
       "<div>\n",
       "<style scoped>\n",
       "    .dataframe tbody tr th:only-of-type {\n",
       "        vertical-align: middle;\n",
       "    }\n",
       "\n",
       "    .dataframe tbody tr th {\n",
       "        vertical-align: top;\n",
       "    }\n",
       "\n",
       "    .dataframe thead th {\n",
       "        text-align: right;\n",
       "    }\n",
       "</style>\n",
       "<table border=\"1\" class=\"dataframe\">\n",
       "  <thead>\n",
       "    <tr style=\"text-align: right;\">\n",
       "      <th></th>\n",
       "      <th>icpsr</th>\n",
       "      <th>party</th>\n",
       "      <th>rep_name</th>\n",
       "      <th>nomdim1</th>\n",
       "      <th>age</th>\n",
       "      <th>1</th>\n",
       "      <th>2</th>\n",
       "      <th>3</th>\n",
       "      <th>4</th>\n",
       "      <th>5</th>\n",
       "      <th>...</th>\n",
       "      <th>858</th>\n",
       "      <th>859</th>\n",
       "      <th>860</th>\n",
       "      <th>861</th>\n",
       "      <th>862</th>\n",
       "      <th>863</th>\n",
       "      <th>864</th>\n",
       "      <th>865</th>\n",
       "      <th>866</th>\n",
       "      <th>867</th>\n",
       "    </tr>\n",
       "  </thead>\n",
       "  <tbody>\n",
       "    <tr>\n",
       "      <th>0</th>\n",
       "      <td>22123</td>\n",
       "      <td>Republican</td>\n",
       "      <td>HERRELL, Yvette</td>\n",
       "      <td>0.936</td>\n",
       "      <td>58</td>\n",
       "      <td>6</td>\n",
       "      <td>1</td>\n",
       "      <td>6</td>\n",
       "      <td>6</td>\n",
       "      <td>6</td>\n",
       "      <td>...</td>\n",
       "      <td>6</td>\n",
       "      <td>1</td>\n",
       "      <td>1</td>\n",
       "      <td>6</td>\n",
       "      <td>6</td>\n",
       "      <td>1</td>\n",
       "      <td>1</td>\n",
       "      <td>6</td>\n",
       "      <td>6</td>\n",
       "      <td>6</td>\n",
       "    </tr>\n",
       "    <tr>\n",
       "      <th>1</th>\n",
       "      <td>21705</td>\n",
       "      <td>Republican</td>\n",
       "      <td>BIGGS, Andrew S.</td>\n",
       "      <td>0.849</td>\n",
       "      <td>64</td>\n",
       "      <td>6</td>\n",
       "      <td>1</td>\n",
       "      <td>6</td>\n",
       "      <td>6</td>\n",
       "      <td>6</td>\n",
       "      <td>...</td>\n",
       "      <td>6</td>\n",
       "      <td>6</td>\n",
       "      <td>1</td>\n",
       "      <td>6</td>\n",
       "      <td>6</td>\n",
       "      <td>6</td>\n",
       "      <td>1</td>\n",
       "      <td>6</td>\n",
       "      <td>6</td>\n",
       "      <td>6</td>\n",
       "    </tr>\n",
       "    <tr>\n",
       "      <th>2</th>\n",
       "      <td>21753</td>\n",
       "      <td>Republican</td>\n",
       "      <td>NORMAN, Ralph</td>\n",
       "      <td>0.841</td>\n",
       "      <td>69</td>\n",
       "      <td>6</td>\n",
       "      <td>1</td>\n",
       "      <td>6</td>\n",
       "      <td>6</td>\n",
       "      <td>6</td>\n",
       "      <td>...</td>\n",
       "      <td>9</td>\n",
       "      <td>9</td>\n",
       "      <td>9</td>\n",
       "      <td>9</td>\n",
       "      <td>9</td>\n",
       "      <td>9</td>\n",
       "      <td>9</td>\n",
       "      <td>6</td>\n",
       "      <td>6</td>\n",
       "      <td>6</td>\n",
       "    </tr>\n",
       "    <tr>\n",
       "      <th>3</th>\n",
       "      <td>22121</td>\n",
       "      <td>Republican</td>\n",
       "      <td>GREENE, Marjorie Taylor</td>\n",
       "      <td>0.800</td>\n",
       "      <td>48</td>\n",
       "      <td>6</td>\n",
       "      <td>1</td>\n",
       "      <td>6</td>\n",
       "      <td>6</td>\n",
       "      <td>6</td>\n",
       "      <td>...</td>\n",
       "      <td>9</td>\n",
       "      <td>9</td>\n",
       "      <td>9</td>\n",
       "      <td>9</td>\n",
       "      <td>9</td>\n",
       "      <td>9</td>\n",
       "      <td>9</td>\n",
       "      <td>6</td>\n",
       "      <td>6</td>\n",
       "      <td>6</td>\n",
       "    </tr>\n",
       "    <tr>\n",
       "      <th>4</th>\n",
       "      <td>21961</td>\n",
       "      <td>Republican</td>\n",
       "      <td>ROY, Charles</td>\n",
       "      <td>0.800</td>\n",
       "      <td>50</td>\n",
       "      <td>6</td>\n",
       "      <td>1</td>\n",
       "      <td>6</td>\n",
       "      <td>6</td>\n",
       "      <td>6</td>\n",
       "      <td>...</td>\n",
       "      <td>6</td>\n",
       "      <td>6</td>\n",
       "      <td>1</td>\n",
       "      <td>6</td>\n",
       "      <td>6</td>\n",
       "      <td>6</td>\n",
       "      <td>9</td>\n",
       "      <td>6</td>\n",
       "      <td>6</td>\n",
       "      <td>6</td>\n",
       "    </tr>\n",
       "    <tr>\n",
       "      <th>...</th>\n",
       "      <td>...</td>\n",
       "      <td>...</td>\n",
       "      <td>...</td>\n",
       "      <td>...</td>\n",
       "      <td>...</td>\n",
       "      <td>...</td>\n",
       "      <td>...</td>\n",
       "      <td>...</td>\n",
       "      <td>...</td>\n",
       "      <td>...</td>\n",
       "      <td>...</td>\n",
       "      <td>...</td>\n",
       "      <td>...</td>\n",
       "      <td>...</td>\n",
       "      <td>...</td>\n",
       "      <td>...</td>\n",
       "      <td>...</td>\n",
       "      <td>...</td>\n",
       "      <td>...</td>\n",
       "      <td>...</td>\n",
       "      <td>...</td>\n",
       "    </tr>\n",
       "    <tr>\n",
       "      <th>447</th>\n",
       "      <td>29106</td>\n",
       "      <td>Democrat</td>\n",
       "      <td>WATERS, Maxine</td>\n",
       "      <td>-0.656</td>\n",
       "      <td>84</td>\n",
       "      <td>1</td>\n",
       "      <td>9</td>\n",
       "      <td>1</td>\n",
       "      <td>1</td>\n",
       "      <td>1</td>\n",
       "      <td>...</td>\n",
       "      <td>1</td>\n",
       "      <td>1</td>\n",
       "      <td>6</td>\n",
       "      <td>1</td>\n",
       "      <td>1</td>\n",
       "      <td>1</td>\n",
       "      <td>6</td>\n",
       "      <td>1</td>\n",
       "      <td>1</td>\n",
       "      <td>1</td>\n",
       "    </tr>\n",
       "    <tr>\n",
       "      <th>448</th>\n",
       "      <td>21906</td>\n",
       "      <td>Democrat</td>\n",
       "      <td>CASTEN, Sean</td>\n",
       "      <td>-0.657</td>\n",
       "      <td>51</td>\n",
       "      <td>1</td>\n",
       "      <td>1</td>\n",
       "      <td>1</td>\n",
       "      <td>1</td>\n",
       "      <td>1</td>\n",
       "      <td>...</td>\n",
       "      <td>1</td>\n",
       "      <td>1</td>\n",
       "      <td>6</td>\n",
       "      <td>1</td>\n",
       "      <td>1</td>\n",
       "      <td>1</td>\n",
       "      <td>1</td>\n",
       "      <td>1</td>\n",
       "      <td>1</td>\n",
       "      <td>1</td>\n",
       "    </tr>\n",
       "    <tr>\n",
       "      <th>449</th>\n",
       "      <td>21726</td>\n",
       "      <td>Democrat</td>\n",
       "      <td>JAYAPAL, Pramila</td>\n",
       "      <td>-0.681</td>\n",
       "      <td>57</td>\n",
       "      <td>1</td>\n",
       "      <td>1</td>\n",
       "      <td>1</td>\n",
       "      <td>1</td>\n",
       "      <td>1</td>\n",
       "      <td>...</td>\n",
       "      <td>1</td>\n",
       "      <td>1</td>\n",
       "      <td>6</td>\n",
       "      <td>1</td>\n",
       "      <td>1</td>\n",
       "      <td>1</td>\n",
       "      <td>6</td>\n",
       "      <td>1</td>\n",
       "      <td>1</td>\n",
       "      <td>1</td>\n",
       "    </tr>\n",
       "    <tr>\n",
       "      <th>450</th>\n",
       "      <td>29778</td>\n",
       "      <td>Democrat</td>\n",
       "      <td>LEE, Barbara</td>\n",
       "      <td>-0.681</td>\n",
       "      <td>76</td>\n",
       "      <td>1</td>\n",
       "      <td>1</td>\n",
       "      <td>1</td>\n",
       "      <td>1</td>\n",
       "      <td>1</td>\n",
       "      <td>...</td>\n",
       "      <td>1</td>\n",
       "      <td>1</td>\n",
       "      <td>6</td>\n",
       "      <td>1</td>\n",
       "      <td>1</td>\n",
       "      <td>1</td>\n",
       "      <td>6</td>\n",
       "      <td>1</td>\n",
       "      <td>1</td>\n",
       "      <td>1</td>\n",
       "    </tr>\n",
       "    <tr>\n",
       "      <th>451</th>\n",
       "      <td>21922</td>\n",
       "      <td>Democrat</td>\n",
       "      <td>GARCIA, Sylvia</td>\n",
       "      <td>-0.831</td>\n",
       "      <td>72</td>\n",
       "      <td>1</td>\n",
       "      <td>1</td>\n",
       "      <td>1</td>\n",
       "      <td>1</td>\n",
       "      <td>1</td>\n",
       "      <td>...</td>\n",
       "      <td>1</td>\n",
       "      <td>1</td>\n",
       "      <td>6</td>\n",
       "      <td>1</td>\n",
       "      <td>1</td>\n",
       "      <td>1</td>\n",
       "      <td>1</td>\n",
       "      <td>1</td>\n",
       "      <td>1</td>\n",
       "      <td>1</td>\n",
       "    </tr>\n",
       "  </tbody>\n",
       "</table>\n",
       "<p>420 rows × 872 columns</p>\n",
       "</div>"
      ],
      "text/plain": [
       "     icpsr       party                 rep_name  nomdim1  age  1  2  3  4  5  \\\n",
       "0    22123  Republican          HERRELL, Yvette    0.936   58  6  1  6  6  6   \n",
       "1    21705  Republican         BIGGS, Andrew S.    0.849   64  6  1  6  6  6   \n",
       "2    21753  Republican            NORMAN, Ralph    0.841   69  6  1  6  6  6   \n",
       "3    22121  Republican  GREENE, Marjorie Taylor    0.800   48  6  1  6  6  6   \n",
       "4    21961  Republican             ROY, Charles    0.800   50  6  1  6  6  6   \n",
       "..     ...         ...                      ...      ...  ... .. .. .. .. ..   \n",
       "447  29106    Democrat           WATERS, Maxine   -0.656   84  1  9  1  1  1   \n",
       "448  21906    Democrat             CASTEN, Sean   -0.657   51  1  1  1  1  1   \n",
       "449  21726    Democrat         JAYAPAL, Pramila   -0.681   57  1  1  1  1  1   \n",
       "450  29778    Democrat             LEE, Barbara   -0.681   76  1  1  1  1  1   \n",
       "451  21922    Democrat           GARCIA, Sylvia   -0.831   72  1  1  1  1  1   \n",
       "\n",
       "     ...  858  859  860  861  862  863  864  865  866  867  \n",
       "0    ...    6    1    1    6    6    1    1    6    6    6  \n",
       "1    ...    6    6    1    6    6    6    1    6    6    6  \n",
       "2    ...    9    9    9    9    9    9    9    6    6    6  \n",
       "3    ...    9    9    9    9    9    9    9    6    6    6  \n",
       "4    ...    6    6    1    6    6    6    9    6    6    6  \n",
       "..   ...  ...  ...  ...  ...  ...  ...  ...  ...  ...  ...  \n",
       "447  ...    1    1    6    1    1    1    6    1    1    1  \n",
       "448  ...    1    1    6    1    1    1    1    1    1    1  \n",
       "449  ...    1    1    6    1    1    1    6    1    1    1  \n",
       "450  ...    1    1    6    1    1    1    6    1    1    1  \n",
       "451  ...    1    1    6    1    1    1    1    1    1    1  \n",
       "\n",
       "[420 rows x 872 columns]"
      ]
     },
     "execution_count": 16,
     "metadata": {},
     "output_type": "execute_result"
    }
   ],
   "source": [
    "v_d_f.to_csv('networks/data/congress/sv_fixed_ab.csv')"
   ]
  },
  {
   "cell_type": "markdown",
   "metadata": {},
   "source": [
    "### Stack Overflow data"
   ]
  },
  {
   "cell_type": "code",
   "execution_count": null,
   "metadata": {},
   "outputs": [],
   "source": [
    "stack_links = pd.read_csv(\"networks/data/stack_network_links.csv\")"
   ]
  },
  {
   "cell_type": "code",
   "execution_count": null,
   "metadata": {},
   "outputs": [],
   "source": [
    "stack_links"
   ]
  },
  {
   "cell_type": "code",
   "execution_count": null,
   "metadata": {},
   "outputs": [],
   "source": [
    "stack_nodes = pd.read_csv(\"networks/data/stack_network_nodes.csv\")"
   ]
  },
  {
   "cell_type": "code",
   "execution_count": null,
   "metadata": {},
   "outputs": [],
   "source": [
    "def create_nodes_links_json_from_stack_data(stack_nodes, stack_links):\n",
    "    nodes = []\n",
    "    links = []\n",
    "    for index, row in stack_nodes.iterrows():\n",
    "        nodes.append({\"id\": row[\"name\"], \"group\": row[\"group\"], \"size\": row[\"nodesize\"]})\n",
    "    for index, row in stack_links.iterrows():\n",
    "        links.append({\"source\": row[\"source\"], \"target\": row[\"target\"], \"value\": row[\"value\"]})\n",
    "    return {\"nodes\": nodes, \"links\": links}"
   ]
  },
  {
   "cell_type": "code",
   "execution_count": null,
   "metadata": {},
   "outputs": [],
   "source": [
    "stack_net = create_nodes_links_json_from_stack_data(stack_nodes, stack_links)"
   ]
  },
  {
   "cell_type": "code",
   "execution_count": 14,
   "metadata": {},
   "outputs": [],
   "source": [
    "def write_json_to_file(filename, data):\n",
    "    with open(filename, 'w') as fp:\n",
    "        json.dump(data, fp)"
   ]
  },
  {
   "cell_type": "code",
   "execution_count": 15,
   "metadata": {},
   "outputs": [],
   "source": [
    "write_json_to_file(\"networks/data/stack_network.json\", stack_net)"
   ]
  },
  {
   "cell_type": "code",
   "execution_count": 16,
   "metadata": {},
   "outputs": [],
   "source": [
    "def netjson_to_gml(netjson):\n",
    "    g = nx.Graph()\n",
    "    for node in netjson[\"nodes\"]:\n",
    "        g.add_node(node[\"id\"], group=node[\"group\"], size=node[\"size\"])\n",
    "    for link in netjson[\"links\"]:\n",
    "        g.add_edge(link[\"source\"], link[\"target\"], value=link[\"value\"])\n",
    "    return g"
   ]
  },
  {
   "cell_type": "code",
   "execution_count": 19,
   "metadata": {},
   "outputs": [],
   "source": [
    "s_g = nx.generate_gml(netjson_to_gml(stack_net))"
   ]
  },
  {
   "cell_type": "code",
   "execution_count": 22,
   "metadata": {},
   "outputs": [],
   "source": [
    "nx.write_gml(netjson_to_gml(stack_net), \"networks/data/stack_network.gml\")"
   ]
  },
  {
   "cell_type": "code",
   "execution_count": null,
   "metadata": {},
   "outputs": [],
   "source": [
    "def gml_to_json(gml_file):\n",
    "    with open(gml_file) as f:\n",
    "        g = nx.read_gml(f)\n",
    "    return json_graph.node_link_data(g)"
   ]
  },
  {
   "cell_type": "code",
   "execution_count": 23,
   "metadata": {},
   "outputs": [],
   "source": [
    "stack_gml = nx.read_gml(\"networks/data/stack_network.gml\")"
   ]
  },
  {
   "cell_type": "code",
   "execution_count": 25,
   "metadata": {},
   "outputs": [],
   "source": [
    "def show_graph(g):\n",
    "    pos = nx.spring_layout(g)\n",
    "    nx.draw(g, pos, with_labels=True)\n",
    "    plt.show()"
   ]
  }
 ],
 "metadata": {
  "kernelspec": {
   "display_name": "Python 3.8.13 ('rstools')",
   "language": "python",
   "name": "python3"
  },
  "language_info": {
   "codemirror_mode": {
    "name": "ipython",
    "version": 3
   },
   "file_extension": ".py",
   "mimetype": "text/x-python",
   "name": "python",
   "nbconvert_exporter": "python",
   "pygments_lexer": "ipython3",
   "version": "3.8.13"
  },
  "orig_nbformat": 4,
  "vscode": {
   "interpreter": {
    "hash": "74433767b723a45c483350c3d47eaaf29169a313b081c7ff587871958aa1c787"
   }
  }
 },
 "nbformat": 4,
 "nbformat_minor": 2
}
