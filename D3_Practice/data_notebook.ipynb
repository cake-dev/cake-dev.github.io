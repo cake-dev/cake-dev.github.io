{
 "cells": [
  {
   "cell_type": "code",
   "execution_count": 41,
   "metadata": {},
   "outputs": [],
   "source": [
    "import networkx as nx\n",
    "import simplejson as json\n",
    "from networkx.readwrite import json_graph\n",
    "import matplotlib.pyplot as plt\n",
    "import pandas as pd\n",
    "import numpy as np\n",
    "import plotly\n",
    "import plotly.graph_objs as go\n",
    "import plotly.express as px"
   ]
  },
  {
   "cell_type": "code",
   "execution_count": null,
   "metadata": {},
   "outputs": [],
   "source": [
    "# parse the gml file and build the graph object\n",
    "g = nx.read_gml('networks/data/karate.gml', label='id')\n",
    "# create a dictionary in a node-link format that is suitable for JSON serialization\n",
    "# d = json_graph.node_link_data(g)\n",
    "# with open('networks/data/power_grid_westernus.json', 'w') as fp:\n",
    "#     json.dump(d, fp)"
   ]
  },
  {
   "cell_type": "code",
   "execution_count": null,
   "metadata": {},
   "outputs": [],
   "source": [
    "nx.adjacency_data(g)"
   ]
  },
  {
   "cell_type": "code",
   "execution_count": null,
   "metadata": {},
   "outputs": [],
   "source": [
    "nx.draw(g, with_labels=True)"
   ]
  },
  {
   "cell_type": "code",
   "execution_count": null,
   "metadata": {},
   "outputs": [],
   "source": [
    "vote_data = pd.read_csv('networks/data/house_votes_2022_curated.csv')"
   ]
  },
  {
   "cell_type": "code",
   "execution_count": null,
   "metadata": {},
   "outputs": [],
   "source": [
    "vote_data[\"DATE\"] = pd.to_datetime(vote_data[\"DATE\"])"
   ]
  },
  {
   "cell_type": "code",
   "execution_count": null,
   "metadata": {},
   "outputs": [],
   "source": [
    "vote_data[\"DATE\"] = vote_data[\"DATE\"].dt.date"
   ]
  },
  {
   "cell_type": "code",
   "execution_count": null,
   "metadata": {},
   "outputs": [],
   "source": [
    "vote_data.sort_values(by=['DATE'], inplace=True)"
   ]
  },
  {
   "cell_type": "code",
   "execution_count": null,
   "metadata": {},
   "outputs": [],
   "source": [
    "vote_data.reset_index(drop=True, inplace=True)"
   ]
  },
  {
   "cell_type": "code",
   "execution_count": null,
   "metadata": {},
   "outputs": [],
   "source": [
    "vote_data[\"REPRESENTATIVE\"] = vote_data[\"REPRESENTATIVE\"].astype(str)"
   ]
  },
  {
   "cell_type": "code",
   "execution_count": null,
   "metadata": {},
   "outputs": [],
   "source": [
    "vote_data[\"index\"] = np.arange(len(vote_data))"
   ]
  },
  {
   "cell_type": "code",
   "execution_count": null,
   "metadata": {},
   "outputs": [],
   "source": [
    "yea_nay_totals = vote_data.groupby([\"BILL\", \"VOTE\"]).count()"
   ]
  },
  {
   "cell_type": "code",
   "execution_count": null,
   "metadata": {},
   "outputs": [],
   "source": [
    "yea_nay_totals"
   ]
  },
  {
   "cell_type": "code",
   "execution_count": null,
   "metadata": {},
   "outputs": [],
   "source": [
    "reps_voted_yea_on_same_bill = vote_data[vote_data[\"VOTE\"] == \"YEA\"].groupby([\"BILL\", \"REPRESENTATIVE\", \"PARTY\"]).count()"
   ]
  },
  {
   "cell_type": "code",
   "execution_count": null,
   "metadata": {},
   "outputs": [],
   "source": [
    "reps_voted_nay_on_same_bill = vote_data[vote_data[\"VOTE\"] == \"NAY\"].groupby([\"BILL\", \"REPRESENTATIVE\", \"PARTY\"]).count()"
   ]
  },
  {
   "cell_type": "code",
   "execution_count": null,
   "metadata": {},
   "outputs": [],
   "source": [
    "reps_voted_same_on_bill = vote_data.groupby([\"BILL\", \"REPRESENTATIVE\", \"PARTY\", \"VOTE\", \"DATE\", \"BILL_NAME\", \"COMMITTEE\", \"STATE\"]).count()"
   ]
  },
  {
   "cell_type": "code",
   "execution_count": null,
   "metadata": {},
   "outputs": [],
   "source": [
    "voted_same_df = reps_voted_same_on_bill.reset_index()"
   ]
  },
  {
   "cell_type": "code",
   "execution_count": null,
   "metadata": {},
   "outputs": [],
   "source": [
    "reps_voted_same_on_bill.to_csv('networks/data/reps_voted_same_on_bill.csv')"
   ]
  },
  {
   "cell_type": "code",
   "execution_count": null,
   "metadata": {},
   "outputs": [],
   "source": [
    "def create_node_link_json_from_vote_data(vote_data, reps_voted_yea_on_same_bill, reps_voted_nay_on_same_bill):\n",
    "    nodes = []\n",
    "    links = []\n",
    "    for index, row in vote_data.iterrows():\n",
    "        print(index)\n",
    "        nodes.append({\"id\": row[\"REPRESENTATIVE\"], \"group\": row[\"PARTY\"], \"vote\": row[\"VOTE\"], \"bill\": row[\"BILL\"], \"date\": row[\"DATE\"].strftime(\"%Y-%m-%d\")})\n",
    "    for index, row in reps_voted_yea_on_same_bill.iterrows():\n",
    "        links.append({\"source\": index[0], \"target\": index[1], \"value\": row[\"index\"]})\n",
    "    for index, row in reps_voted_nay_on_same_bill.iterrows():\n",
    "        links.append({\"source\": index[0], \"target\": index[1], \"value\": row[\"index\"]})\n",
    "    return {\"nodes\": nodes, \"links\": links}"
   ]
  },
  {
   "cell_type": "code",
   "execution_count": null,
   "metadata": {},
   "outputs": [],
   "source": [
    "def nodes_links_same_votes(vote_data, reps_voted_same_on_bill):\n",
    "    nodes = []\n",
    "    links = []\n",
    "    for index, row in vote_data.iterrows():\n",
    "        nodes.append({\"id\": row[\"REPRESENTATIVE\"], \"group\": row[\"PARTY\"], \"vote\": row[\"VOTE\"], \"bill\": row[\"BILL\"], \"date\": row[\"DATE\"].strftime(\"%Y-%m-%d\")})\n",
    "    for index, row in reps_voted_same_on_bill.iterrows():\n",
    "        links.append({\"source\": index[0], \"target\": index[1], \"value\": row[\"index\"]})\n",
    "    return {\"nodes\": nodes, \"links\": links}"
   ]
  },
  {
   "cell_type": "code",
   "execution_count": null,
   "metadata": {},
   "outputs": [],
   "source": [
    "net_data = nodes_links_same_votes(vote_data, reps_voted_same_on_bill)"
   ]
  },
  {
   "cell_type": "code",
   "execution_count": null,
   "metadata": {},
   "outputs": [],
   "source": [
    "net_data"
   ]
  },
  {
   "cell_type": "code",
   "execution_count": null,
   "metadata": {},
   "outputs": [],
   "source": [
    "with open('networks/data/house_votes_2022_curated.json', 'w') as fp:\n",
    "    json.dump(net_data, fp)"
   ]
  },
  {
   "cell_type": "code",
   "execution_count": null,
   "metadata": {},
   "outputs": [],
   "source": [
    "def convert_yea_nay_to_binary(vote_data):\n",
    "    vote_data[\"VOTE\"] = vote_data[\"VOTE\"].apply(lambda x: 1 if x == \"YEA\" else 0)\n",
    "    return vote_data"
   ]
  },
  {
   "cell_type": "code",
   "execution_count": null,
   "metadata": {},
   "outputs": [],
   "source": [
    "vote_data = convert_yea_nay_to_binary(vote_data)"
   ]
  },
  {
   "cell_type": "code",
   "execution_count": 62,
   "metadata": {},
   "outputs": [],
   "source": [
    "def create_same_votes_heatmap(vote_data):\n",
    "    same_votes = vote_data.groupby([\"BILL\", \"REPRESENTATIVE\", \"PARTY\", \"VOTE\"]).count()\n",
    "    same_votes = same_votes.reset_index()\n",
    "    same_votes = same_votes.pivot(index=[\"REPRESENTATIVE\", \"PARTY\"], columns=\"BILL\", values=\"VOTE\")\n",
    "    same_votes = same_votes.fillna(0)\n",
    "    return same_votes"
   ]
  },
  {
   "cell_type": "code",
   "execution_count": null,
   "metadata": {},
   "outputs": [],
   "source": [
    "vote_data"
   ]
  },
  {
   "cell_type": "code",
   "execution_count": 63,
   "metadata": {},
   "outputs": [],
   "source": [
    "s_v = create_same_votes_heatmap(vote_data)"
   ]
  },
  {
   "cell_type": "code",
   "execution_count": 70,
   "metadata": {},
   "outputs": [
    {
     "data": {
      "text/html": [
       "<div>\n",
       "<style scoped>\n",
       "    .dataframe tbody tr th:only-of-type {\n",
       "        vertical-align: middle;\n",
       "    }\n",
       "\n",
       "    .dataframe tbody tr th {\n",
       "        vertical-align: top;\n",
       "    }\n",
       "\n",
       "    .dataframe thead th {\n",
       "        text-align: right;\n",
       "    }\n",
       "</style>\n",
       "<table border=\"1\" class=\"dataframe\">\n",
       "  <thead>\n",
       "    <tr style=\"text-align: right;\">\n",
       "      <th></th>\n",
       "      <th>BILL</th>\n",
       "      <th>1319</th>\n",
       "      <th>1808</th>\n",
       "      <th>3076</th>\n",
       "      <th>3617</th>\n",
       "      <th>3684</th>\n",
       "      <th>3755</th>\n",
       "      <th>5376</th>\n",
       "      <th>5746</th>\n",
       "      <th>7780</th>\n",
       "      <th>7791</th>\n",
       "      <th>7900</th>\n",
       "      <th>8404</th>\n",
       "    </tr>\n",
       "    <tr>\n",
       "      <th>REPRESENTATIVE</th>\n",
       "      <th>PARTY</th>\n",
       "      <th></th>\n",
       "      <th></th>\n",
       "      <th></th>\n",
       "      <th></th>\n",
       "      <th></th>\n",
       "      <th></th>\n",
       "      <th></th>\n",
       "      <th></th>\n",
       "      <th></th>\n",
       "      <th></th>\n",
       "      <th></th>\n",
       "      <th></th>\n",
       "    </tr>\n",
       "  </thead>\n",
       "  <tbody>\n",
       "    <tr>\n",
       "      <th>Adams</th>\n",
       "      <th>Democratic</th>\n",
       "      <td>YEA</td>\n",
       "      <td>YEA</td>\n",
       "      <td>YEA</td>\n",
       "      <td>YEA</td>\n",
       "      <td>YEA</td>\n",
       "      <td>YEA</td>\n",
       "      <td>YEA</td>\n",
       "      <td>YEA</td>\n",
       "      <td>YEA</td>\n",
       "      <td>YEA</td>\n",
       "      <td>YEA</td>\n",
       "      <td>YEA</td>\n",
       "    </tr>\n",
       "    <tr>\n",
       "      <th>Aderholt</th>\n",
       "      <th>Republican</th>\n",
       "      <td>NAY</td>\n",
       "      <td>NAY</td>\n",
       "      <td>YEA</td>\n",
       "      <td>NAY</td>\n",
       "      <td>NAY</td>\n",
       "      <td>NAY</td>\n",
       "      <td>NAY</td>\n",
       "      <td>NAY</td>\n",
       "      <td>NAY</td>\n",
       "      <td>YEA</td>\n",
       "      <td>YEA</td>\n",
       "      <td>NAY</td>\n",
       "    </tr>\n",
       "    <tr>\n",
       "      <th>Aguilar</th>\n",
       "      <th>Democratic</th>\n",
       "      <td>YEA</td>\n",
       "      <td>YEA</td>\n",
       "      <td>YEA</td>\n",
       "      <td>YEA</td>\n",
       "      <td>YEA</td>\n",
       "      <td>YEA</td>\n",
       "      <td>YEA</td>\n",
       "      <td>YEA</td>\n",
       "      <td>YEA</td>\n",
       "      <td>YEA</td>\n",
       "      <td>YEA</td>\n",
       "      <td>YEA</td>\n",
       "    </tr>\n",
       "    <tr>\n",
       "      <th>Allen</th>\n",
       "      <th>Republican</th>\n",
       "      <td>NAY</td>\n",
       "      <td>NAY</td>\n",
       "      <td>NAY</td>\n",
       "      <td>NAY</td>\n",
       "      <td>NAY</td>\n",
       "      <td>NAY</td>\n",
       "      <td>NAY</td>\n",
       "      <td>NAY</td>\n",
       "      <td>NAY</td>\n",
       "      <td>YEA</td>\n",
       "      <td>YEA</td>\n",
       "      <td>NAY</td>\n",
       "    </tr>\n",
       "    <tr>\n",
       "      <th>Allred</th>\n",
       "      <th>Democratic</th>\n",
       "      <td>YEA</td>\n",
       "      <td>YEA</td>\n",
       "      <td>YEA</td>\n",
       "      <td>YEA</td>\n",
       "      <td>YEA</td>\n",
       "      <td>YEA</td>\n",
       "      <td>YEA</td>\n",
       "      <td>YEA</td>\n",
       "      <td>YEA</td>\n",
       "      <td>YEA</td>\n",
       "      <td>YEA</td>\n",
       "      <td>YEA</td>\n",
       "    </tr>\n",
       "    <tr>\n",
       "      <th>...</th>\n",
       "      <th>...</th>\n",
       "      <td>...</td>\n",
       "      <td>...</td>\n",
       "      <td>...</td>\n",
       "      <td>...</td>\n",
       "      <td>...</td>\n",
       "      <td>...</td>\n",
       "      <td>...</td>\n",
       "      <td>...</td>\n",
       "      <td>...</td>\n",
       "      <td>...</td>\n",
       "      <td>...</td>\n",
       "      <td>...</td>\n",
       "    </tr>\n",
       "    <tr>\n",
       "      <th>Wittman</th>\n",
       "      <th>Republican</th>\n",
       "      <td>NAY</td>\n",
       "      <td>NAY</td>\n",
       "      <td>YEA</td>\n",
       "      <td>NAY</td>\n",
       "      <td>NAY</td>\n",
       "      <td>NAY</td>\n",
       "      <td>NAY</td>\n",
       "      <td>NAY</td>\n",
       "      <td>NAY</td>\n",
       "      <td>YEA</td>\n",
       "      <td>YEA</td>\n",
       "      <td>NAY</td>\n",
       "    </tr>\n",
       "    <tr>\n",
       "      <th>Womack</th>\n",
       "      <th>Republican</th>\n",
       "      <td>NAY</td>\n",
       "      <td>NAY</td>\n",
       "      <td>YEA</td>\n",
       "      <td>NAY</td>\n",
       "      <td>NAY</td>\n",
       "      <td>NAY</td>\n",
       "      <td>NAY</td>\n",
       "      <td>NAY</td>\n",
       "      <td>NAY</td>\n",
       "      <td>YEA</td>\n",
       "      <td>YEA</td>\n",
       "      <td>NAY</td>\n",
       "    </tr>\n",
       "    <tr>\n",
       "      <th>Yarmuth</th>\n",
       "      <th>Democratic</th>\n",
       "      <td>YEA</td>\n",
       "      <td>YEA</td>\n",
       "      <td>YEA</td>\n",
       "      <td>YEA</td>\n",
       "      <td>YEA</td>\n",
       "      <td>YEA</td>\n",
       "      <td>YEA</td>\n",
       "      <td>YEA</td>\n",
       "      <td>YEA</td>\n",
       "      <td>YEA</td>\n",
       "      <td>NAY</td>\n",
       "      <td>YEA</td>\n",
       "    </tr>\n",
       "    <tr>\n",
       "      <th>Young</th>\n",
       "      <th>Republican</th>\n",
       "      <td>NAY</td>\n",
       "      <td>0</td>\n",
       "      <td>YEA</td>\n",
       "      <td>0</td>\n",
       "      <td>YEA</td>\n",
       "      <td>NAY</td>\n",
       "      <td>0</td>\n",
       "      <td>NAY</td>\n",
       "      <td>0</td>\n",
       "      <td>0</td>\n",
       "      <td>0</td>\n",
       "      <td>0</td>\n",
       "    </tr>\n",
       "    <tr>\n",
       "      <th>Zeldin</th>\n",
       "      <th>Republican</th>\n",
       "      <td>NAY</td>\n",
       "      <td>NAY</td>\n",
       "      <td>YEA</td>\n",
       "      <td>NOT VOTING</td>\n",
       "      <td>NAY</td>\n",
       "      <td>NAY</td>\n",
       "      <td>NAY</td>\n",
       "      <td>NAY</td>\n",
       "      <td>NOT VOTING</td>\n",
       "      <td>YEA</td>\n",
       "      <td>NAY</td>\n",
       "      <td>YEA</td>\n",
       "    </tr>\n",
       "  </tbody>\n",
       "</table>\n",
       "<p>448 rows × 12 columns</p>\n",
       "</div>"
      ],
      "text/plain": [
       "BILL                      1319 1808 3076        3617 3684 3755 5376 5746  \\\n",
       "REPRESENTATIVE PARTY                                                       \n",
       "Adams          Democratic  YEA  YEA  YEA         YEA  YEA  YEA  YEA  YEA   \n",
       "Aderholt       Republican  NAY  NAY  YEA         NAY  NAY  NAY  NAY  NAY   \n",
       "Aguilar        Democratic  YEA  YEA  YEA         YEA  YEA  YEA  YEA  YEA   \n",
       "Allen          Republican  NAY  NAY  NAY         NAY  NAY  NAY  NAY  NAY   \n",
       "Allred         Democratic  YEA  YEA  YEA         YEA  YEA  YEA  YEA  YEA   \n",
       "...                        ...  ...  ...         ...  ...  ...  ...  ...   \n",
       "Wittman        Republican  NAY  NAY  YEA         NAY  NAY  NAY  NAY  NAY   \n",
       "Womack         Republican  NAY  NAY  YEA         NAY  NAY  NAY  NAY  NAY   \n",
       "Yarmuth        Democratic  YEA  YEA  YEA         YEA  YEA  YEA  YEA  YEA   \n",
       "Young          Republican  NAY    0  YEA           0  YEA  NAY    0  NAY   \n",
       "Zeldin         Republican  NAY  NAY  YEA  NOT VOTING  NAY  NAY  NAY  NAY   \n",
       "\n",
       "BILL                             7780 7791 7900 8404  \n",
       "REPRESENTATIVE PARTY                                  \n",
       "Adams          Democratic         YEA  YEA  YEA  YEA  \n",
       "Aderholt       Republican         NAY  YEA  YEA  NAY  \n",
       "Aguilar        Democratic         YEA  YEA  YEA  YEA  \n",
       "Allen          Republican         NAY  YEA  YEA  NAY  \n",
       "Allred         Democratic         YEA  YEA  YEA  YEA  \n",
       "...                               ...  ...  ...  ...  \n",
       "Wittman        Republican         NAY  YEA  YEA  NAY  \n",
       "Womack         Republican         NAY  YEA  YEA  NAY  \n",
       "Yarmuth        Democratic         YEA  YEA  NAY  YEA  \n",
       "Young          Republican           0    0    0    0  \n",
       "Zeldin         Republican  NOT VOTING  YEA  NAY  YEA  \n",
       "\n",
       "[448 rows x 12 columns]"
      ]
     },
     "execution_count": 70,
     "metadata": {},
     "output_type": "execute_result"
    }
   ],
   "source": [
    "s_v"
   ]
  },
  {
   "cell_type": "code",
   "execution_count": null,
   "metadata": {},
   "outputs": [],
   "source": [
    "with open('networks/data/house_votes_network.json', 'w') as fp:\n",
    "    json.dump(net_data, fp)"
   ]
  }
 ],
 "metadata": {
  "kernelspec": {
   "display_name": "Python 3.8.13 ('rstools')",
   "language": "python",
   "name": "python3"
  },
  "language_info": {
   "codemirror_mode": {
    "name": "ipython",
    "version": 3
   },
   "file_extension": ".py",
   "mimetype": "text/x-python",
   "name": "python",
   "nbconvert_exporter": "python",
   "pygments_lexer": "ipython3",
   "version": "3.8.13"
  },
  "orig_nbformat": 4,
  "vscode": {
   "interpreter": {
    "hash": "74433767b723a45c483350c3d47eaaf29169a313b081c7ff587871958aa1c787"
   }
  }
 },
 "nbformat": 4,
 "nbformat_minor": 2
}
