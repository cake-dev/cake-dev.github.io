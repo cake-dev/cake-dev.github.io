{
 "cells": [
  {
   "cell_type": "code",
   "execution_count": 2,
   "metadata": {},
   "outputs": [],
   "source": [
    "import networkx as nx\n",
    "import json\n",
    "from pandas.io.json import json_normalize\n",
    "from networkx.readwrite import json_graph\n",
    "import matplotlib.pyplot as plt\n",
    "import pandas as pd\n",
    "import numpy as np\n",
    "import scipy"
   ]
  },
  {
   "cell_type": "markdown",
   "metadata": {},
   "source": [
    "## Net stuff"
   ]
  },
  {
   "cell_type": "code",
   "execution_count": null,
   "metadata": {},
   "outputs": [],
   "source": [
    "# parse the gml file and build the graph object\n",
    "g = nx.read_gml('networks/data/karate.gml', label='id')\n",
    "# create a dictionary in a node-link format that is suitable for JSON serialization\n",
    "# d = json_graph.node_link_data(g)\n",
    "# with open('networks/data/power_grid_westernus.json', 'w') as fp:\n",
    "#     json.dump(d, fp)"
   ]
  },
  {
   "cell_type": "code",
   "execution_count": null,
   "metadata": {},
   "outputs": [],
   "source": [
    "nx.adjacency_data(g)"
   ]
  },
  {
   "cell_type": "code",
   "execution_count": null,
   "metadata": {},
   "outputs": [],
   "source": [
    "nx.draw(g, with_labels=True)"
   ]
  },
  {
   "cell_type": "code",
   "execution_count": null,
   "metadata": {},
   "outputs": [],
   "source": [
    "vote_data = pd.read_csv('networks/data/house_votes_2022_curated.csv')"
   ]
  },
  {
   "cell_type": "code",
   "execution_count": null,
   "metadata": {},
   "outputs": [],
   "source": [
    "vote_data[\"DATE\"] = pd.to_datetime(vote_data[\"DATE\"])"
   ]
  },
  {
   "cell_type": "code",
   "execution_count": null,
   "metadata": {},
   "outputs": [],
   "source": [
    "vote_data[\"DATE\"] = vote_data[\"DATE\"].dt.date"
   ]
  },
  {
   "cell_type": "code",
   "execution_count": null,
   "metadata": {},
   "outputs": [],
   "source": [
    "vote_data.sort_values(by=['DATE'], inplace=True)"
   ]
  },
  {
   "cell_type": "code",
   "execution_count": null,
   "metadata": {},
   "outputs": [],
   "source": [
    "vote_data.reset_index(drop=True, inplace=True)"
   ]
  },
  {
   "cell_type": "code",
   "execution_count": null,
   "metadata": {},
   "outputs": [],
   "source": [
    "vote_data[\"REPRESENTATIVE\"] = vote_data[\"REPRESENTATIVE\"].astype(str)"
   ]
  },
  {
   "cell_type": "code",
   "execution_count": null,
   "metadata": {},
   "outputs": [],
   "source": [
    "vote_data[\"index\"] = np.arange(len(vote_data))"
   ]
  },
  {
   "cell_type": "code",
   "execution_count": null,
   "metadata": {},
   "outputs": [],
   "source": [
    "yea_nay_totals = vote_data.groupby([\"BILL\", \"VOTE\"]).count()"
   ]
  },
  {
   "cell_type": "code",
   "execution_count": null,
   "metadata": {},
   "outputs": [],
   "source": [
    "reps_voted_yea_on_same_bill = vote_data[vote_data[\"VOTE\"] == \"YEA\"].groupby([\"BILL\", \"REPRESENTATIVE\", \"PARTY\"]).count()"
   ]
  },
  {
   "cell_type": "code",
   "execution_count": null,
   "metadata": {},
   "outputs": [],
   "source": [
    "reps_voted_nay_on_same_bill = vote_data[vote_data[\"VOTE\"] == \"NAY\"].groupby([\"BILL\", \"REPRESENTATIVE\", \"PARTY\"]).count()"
   ]
  },
  {
   "cell_type": "code",
   "execution_count": null,
   "metadata": {},
   "outputs": [],
   "source": [
    "reps_voted_same_on_bill = vote_data.groupby([\"BILL\", \"REPRESENTATIVE\", \"PARTY\", \"VOTE\", \"DATE\", \"BILL_NAME\", \"COMMITTEE\", \"STATE\"]).count()"
   ]
  },
  {
   "cell_type": "code",
   "execution_count": null,
   "metadata": {},
   "outputs": [],
   "source": [
    "voted_same_df = reps_voted_same_on_bill.reset_index()"
   ]
  },
  {
   "cell_type": "code",
   "execution_count": null,
   "metadata": {},
   "outputs": [],
   "source": [
    "reps_voted_same_on_bill.to_csv('networks/data/reps_voted_same_on_bill.csv')"
   ]
  },
  {
   "cell_type": "code",
   "execution_count": null,
   "metadata": {},
   "outputs": [],
   "source": [
    "def create_node_link_json_from_vote_data(vote_data, reps_voted_yea_on_same_bill, reps_voted_nay_on_same_bill):\n",
    "    nodes = []\n",
    "    links = []\n",
    "    for index, row in vote_data.iterrows():\n",
    "        print(index)\n",
    "        nodes.append({\"id\": row[\"REPRESENTATIVE\"], \"group\": row[\"PARTY\"], \"vote\": row[\"VOTE\"], \"bill\": row[\"BILL\"], \"date\": row[\"DATE\"].strftime(\"%Y-%m-%d\")})\n",
    "    for index, row in reps_voted_yea_on_same_bill.iterrows():\n",
    "        links.append({\"source\": index[0], \"target\": index[1], \"value\": row[\"index\"]})\n",
    "    for index, row in reps_voted_nay_on_same_bill.iterrows():\n",
    "        links.append({\"source\": index[0], \"target\": index[1], \"value\": row[\"index\"]})\n",
    "    return {\"nodes\": nodes, \"links\": links}"
   ]
  },
  {
   "cell_type": "code",
   "execution_count": null,
   "metadata": {},
   "outputs": [],
   "source": [
    "def nodes_links_same_votes(vote_data, reps_voted_same_on_bill):\n",
    "    nodes = []\n",
    "    links = []\n",
    "    for index, row in vote_data.iterrows():\n",
    "        nodes.append({\"id\": row[\"REPRESENTATIVE\"], \"group\": row[\"PARTY\"], \"vote\": row[\"VOTE\"], \"bill\": row[\"BILL\"], \"date\": row[\"DATE\"].strftime(\"%Y-%m-%d\")})\n",
    "    for index, row in reps_voted_same_on_bill.iterrows():\n",
    "        links.append({\"source\": index[0], \"target\": index[1], \"value\": row[\"index\"]})\n",
    "    return {\"nodes\": nodes, \"links\": links}"
   ]
  },
  {
   "cell_type": "code",
   "execution_count": null,
   "metadata": {},
   "outputs": [],
   "source": [
    "net_data = nodes_links_same_votes(vote_data, reps_voted_same_on_bill)"
   ]
  },
  {
   "cell_type": "code",
   "execution_count": null,
   "metadata": {},
   "outputs": [],
   "source": [
    "net_data"
   ]
  },
  {
   "cell_type": "code",
   "execution_count": null,
   "metadata": {},
   "outputs": [],
   "source": [
    "with open('networks/data/house_votes_2022_curated.json', 'w') as fp:\n",
    "    json.dump(net_data, fp)"
   ]
  },
  {
   "cell_type": "code",
   "execution_count": null,
   "metadata": {},
   "outputs": [],
   "source": [
    "def convert_yea_nay_to_binary(vote_data):\n",
    "    vote_data[\"VOTE\"] = vote_data[\"VOTE\"].apply(lambda x: 1 if x == \"YEA\" else 0)\n",
    "    return vote_data"
   ]
  },
  {
   "cell_type": "code",
   "execution_count": null,
   "metadata": {},
   "outputs": [],
   "source": [
    "vote_data = convert_yea_nay_to_binary(vote_data)"
   ]
  },
  {
   "cell_type": "code",
   "execution_count": null,
   "metadata": {},
   "outputs": [],
   "source": [
    "def create_same_votes_heatmap(vote_data):\n",
    "    same_votes = vote_data.groupby([\"BILL\", \"REPRESENTATIVE\", \"PARTY\", \"VOTE\"]).count()\n",
    "    same_votes = same_votes.reset_index()\n",
    "    same_votes = same_votes.pivot(index=[\"REPRESENTATIVE\", \"PARTY\"], columns=\"BILL\", values=\"VOTE\")\n",
    "    same_votes = same_votes.fillna(0)\n",
    "    return same_votes"
   ]
  },
  {
   "cell_type": "code",
   "execution_count": null,
   "metadata": {},
   "outputs": [],
   "source": [
    "s_v = create_same_votes_heatmap(vote_data)"
   ]
  },
  {
   "cell_type": "code",
   "execution_count": null,
   "metadata": {},
   "outputs": [],
   "source": [
    "values = [0]"
   ]
  },
  {
   "cell_type": "code",
   "execution_count": null,
   "metadata": {},
   "outputs": [],
   "source": [
    "samevotes_fixed = svhm[svhm['1319'] !='0']"
   ]
  },
  {
   "cell_type": "code",
   "execution_count": null,
   "metadata": {},
   "outputs": [],
   "source": [
    "samevotes_fixed = samevotes_fixed[samevotes_fixed['8404'] !='0']"
   ]
  },
  {
   "cell_type": "code",
   "execution_count": null,
   "metadata": {},
   "outputs": [],
   "source": [
    "bills_passed_samevotes = samevotes_fixed[samevotes_fixed['1319'] == samevotes_fixed['8404']]"
   ]
  },
  {
   "cell_type": "code",
   "execution_count": null,
   "metadata": {},
   "outputs": [],
   "source": [
    "samevotes_fixed = pd.read_csv('networks/data/samevotes_fixed.csv')"
   ]
  },
  {
   "cell_type": "code",
   "execution_count": null,
   "metadata": {},
   "outputs": [],
   "source": [
    "with open('networks/data/house_votes_network.json', 'w') as fp:\n",
    "    json.dump(net_data, fp)"
   ]
  },
  {
   "cell_type": "markdown",
   "metadata": {},
   "source": [
    "### all votes for the 1st and 2nd Sessions of the 117th Congress (House of Representatives)"
   ]
  },
  {
   "cell_type": "code",
   "execution_count": null,
   "metadata": {},
   "outputs": [],
   "source": [
    "congress_members = pd.read_csv('networks/data/congress/H117_members.csv')"
   ]
  },
  {
   "cell_type": "code",
   "execution_count": null,
   "metadata": {},
   "outputs": [],
   "source": [
    "def party_code_to_party_name_in_df_column(df, column_name):\n",
    "    df[column_name] = df[column_name].apply(lambda x: \"Democrat\" if x == 100 else \"Republican\")\n",
    "    return df"
   ]
  },
  {
   "cell_type": "code",
   "execution_count": null,
   "metadata": {},
   "outputs": [],
   "source": [
    "congress_mems = party_code_to_party_name_in_df_column(congress_members, \"party_code\")"
   ]
  },
  {
   "cell_type": "code",
   "execution_count": null,
   "metadata": {},
   "outputs": [],
   "source": [
    "def match_value_to_icpsr(df):\n",
    "    # df[\"nomdim1\"] = df[\"icpsr\"].apply(lambda x: congress_mems[congress_mems[\"icpsr\"] == x][\"nominate_dim1\"].values[0])\n",
    "    # df[\"rep_name\"] = df[\"icpsr\"].apply(lambda x: congress_mems[congress_mems[\"icpsr\"] == x][\"bioname\"].values[0])\n",
    "    # df[\"party\"] = df[\"icpsr\"].apply(lambda x: congress_mems[congress_mems[\"icpsr\"] == x][\"party_code\"].values[0])\n",
    "    # df[\"born\"] = df[\"icpsr\"].apply(lambda x: congress_mems[congress_mems[\"icpsr\"] == x][\"born\"].values[0])\n",
    "    df[\"state\"] = df[\"icpsr\"].apply(lambda x: congress_mems[congress_mems[\"icpsr\"] == x][\"state_abbrev\"].values[0])\n",
    "    return df"
   ]
  },
  {
   "cell_type": "code",
   "execution_count": null,
   "metadata": {},
   "outputs": [],
   "source": [
    "data = match_value_to_icpsr(all_votes_117)"
   ]
  },
  {
   "cell_type": "code",
   "execution_count": null,
   "metadata": {},
   "outputs": [],
   "source": [
    "def get_times_reps_voted_same(votes_all_fixed):\n",
    "    same_votes = votes_all_fixed.groupby([\"rollnumber\", \"icpsr\", \"party\", \"cast_code\", \"rep_name\", \"nomdim1\", \"age\"]).count()\n",
    "    same_votes = same_votes.reset_index()\n",
    "    same_votes = same_votes.pivot(index=[\"icpsr\", \"party\", \"rep_name\", \"nomdim1\", \"age\"], columns=\"rollnumber\", values=\"cast_code\")\n",
    "    same_votes = same_votes.fillna(0)\n",
    "    return same_votes"
   ]
  },
  {
   "cell_type": "code",
   "execution_count": null,
   "metadata": {},
   "outputs": [],
   "source": [
    "d2 = get_times_reps_voted_same(data)"
   ]
  },
  {
   "cell_type": "code",
   "execution_count": null,
   "metadata": {},
   "outputs": [],
   "source": [
    "d2.sort_values(by=\"nomdim1\", ascending=False, inplace=True)"
   ]
  },
  {
   "cell_type": "code",
   "execution_count": null,
   "metadata": {},
   "outputs": [],
   "source": [
    "v_d = pd.read_csv('networks/data/congress/same_votes.csv')"
   ]
  },
  {
   "cell_type": "code",
   "execution_count": null,
   "metadata": {},
   "outputs": [],
   "source": [
    "num_votes_per_rep = v_d.groupby([\"icpsr\", \"party\", \"rep_name\", \"nomdim1\", \"age\"]).count()"
   ]
  },
  {
   "cell_type": "code",
   "execution_count": null,
   "metadata": {},
   "outputs": [],
   "source": [
    "def drop_rows_with_more_than_n_zero_values(df, n):\n",
    "    df = df[(df == 0).sum(axis=1) <= n]\n",
    "    return df"
   ]
  },
  {
   "cell_type": "code",
   "execution_count": null,
   "metadata": {},
   "outputs": [],
   "source": [
    "v_d_f = drop_rows_with_more_than_n_zero_values(v_d, 50)"
   ]
  },
  {
   "cell_type": "code",
   "execution_count": null,
   "metadata": {},
   "outputs": [],
   "source": [
    "v_d_f.to_csv('networks/data/congress/sv_fixed_ab.csv')"
   ]
  },
  {
   "cell_type": "markdown",
   "metadata": {},
   "source": [
    "### Stack Overflow data"
   ]
  },
  {
   "cell_type": "code",
   "execution_count": 3,
   "metadata": {},
   "outputs": [],
   "source": [
    "stack_links = pd.read_csv(\"networks/data/stack_overflow/stack_network_links.csv\")"
   ]
  },
  {
   "cell_type": "code",
   "execution_count": 10,
   "metadata": {},
   "outputs": [],
   "source": [
    "stack_links.drop_duplicates(subset=\"value\", keep=\"first\", inplace=True)"
   ]
  },
  {
   "cell_type": "code",
   "execution_count": 4,
   "metadata": {},
   "outputs": [],
   "source": [
    "stack_nodes = pd.read_csv(\"networks/data/stack_overflow/stack_network_nodes.csv\")"
   ]
  },
  {
   "cell_type": "code",
   "execution_count": 10,
   "metadata": {},
   "outputs": [],
   "source": [
    "stack_nodes.to_csv(\"networks/data/stack_overflow/stack_network_nodeasdasds.csv\")"
   ]
  },
  {
   "cell_type": "code",
   "execution_count": 14,
   "metadata": {},
   "outputs": [],
   "source": [
    "def create_nodes_links_json_from_stack_data(stack_nodes, stack_links):\n",
    "    nodes = []\n",
    "    links = []\n",
    "    for index, row in stack_nodes.iterrows():\n",
    "        nodes.append({\"id\": row[\"name\"], \"group\": row[\"group\"], \"size\": row[\"nodesize\"]})\n",
    "    for index, row in stack_links.iterrows():\n",
    "        links.append({\"source\": row[\"source\"], \"target\": row[\"target\"], \"value\": row[\"value\"]})\n",
    "    return {\"nodes\": nodes, \"links\": links}"
   ]
  },
  {
   "cell_type": "code",
   "execution_count": 15,
   "metadata": {},
   "outputs": [],
   "source": [
    "stack_net = create_nodes_links_json_from_stack_data(stack_nodes, stack_links)"
   ]
  },
  {
   "cell_type": "code",
   "execution_count": 16,
   "metadata": {},
   "outputs": [],
   "source": [
    "def write_json_to_file(filename, data):\n",
    "    with open(filename, 'w') as fp:\n",
    "        json.dump(data, fp)"
   ]
  },
  {
   "cell_type": "code",
   "execution_count": null,
   "metadata": {},
   "outputs": [],
   "source": [
    "write_json_to_file(\"networks/data/stack_overflow/edited_s_net.json\", stack_net)"
   ]
  },
  {
   "cell_type": "code",
   "execution_count": null,
   "metadata": {},
   "outputs": [],
   "source": [
    "def netjson_to_gml(netjson):\n",
    "    g = nx.Graph()\n",
    "    for node in netjson[\"nodes\"]:\n",
    "        g.add_node(node[\"id\"], group=node[\"group\"], size=node[\"size\"])\n",
    "    for link in netjson[\"links\"]:\n",
    "        g.add_edge(link[\"source\"], link[\"target\"], value=link[\"value\"])\n",
    "    return g"
   ]
  },
  {
   "cell_type": "code",
   "execution_count": null,
   "metadata": {},
   "outputs": [],
   "source": [
    "s_g = nx.generate_gml(netjson_to_gml(stack_net))"
   ]
  },
  {
   "cell_type": "code",
   "execution_count": null,
   "metadata": {},
   "outputs": [],
   "source": [
    "def gml_to_json(gml_file):\n",
    "    with open(gml_file) as f:\n",
    "        g = nx.read_gml(f)\n",
    "    return json_graph.node_link_data(g)"
   ]
  },
  {
   "cell_type": "code",
   "execution_count": null,
   "metadata": {},
   "outputs": [],
   "source": [
    "stack_gml = nx.read_gml(\"networks/data/stack_overflow/stack_network.gml\")"
   ]
  },
  {
   "cell_type": "code",
   "execution_count": 4,
   "metadata": {},
   "outputs": [],
   "source": [
    "with open('networks/data/stack_overflow/stack_network.json') as s_n:\n",
    "    stack_net = json.load(s_n)"
   ]
  },
  {
   "cell_type": "code",
   "execution_count": null,
   "metadata": {},
   "outputs": [],
   "source": [
    "df = pd.DataFrame.from_dict(stack_net[\"nodes\"])"
   ]
  },
  {
   "cell_type": "code",
   "execution_count": 27,
   "metadata": {},
   "outputs": [
    {
     "name": "stderr",
     "output_type": "stream",
     "text": [
      "C:\\Users\\bovam\\AppData\\Local\\Temp\\ipykernel_10984\\2136678180.py:1: FutureWarning: adjacency_matrix will return a scipy.sparse array instead of a matrix in Networkx 3.0.\n",
      "  adj_matrix = nx.adjacency_matrix(stack_gml)\n"
     ]
    }
   ],
   "source": [
    "adj_matrix = nx.adjacency_matrix(stack_gml)"
   ]
  },
  {
   "cell_type": "code",
   "execution_count": 31,
   "metadata": {},
   "outputs": [],
   "source": [
    "am = pd.DataFrame(adj_matrix.todense())"
   ]
  },
  {
   "cell_type": "code",
   "execution_count": 33,
   "metadata": {},
   "outputs": [],
   "source": [
    "am.to_csv(\"networks/data/stack_overflow/stack_adj_matrix.csv\")"
   ]
  },
  {
   "cell_type": "code",
   "execution_count": 9,
   "metadata": {},
   "outputs": [],
   "source": [
    "def get_node_group_link_values_from_netjson(netjson):\n",
    "    nodes = []\n",
    "    links = []\n",
    "    for node in netjson[\"nodes\"]:\n",
    "        nodes.append(node[\"group\"])\n",
    "    for link in netjson[\"links\"]:\n",
    "        links.append(link[\"value\"])\n",
    "    return nodes, links"
   ]
  },
  {
   "cell_type": "code",
   "execution_count": 10,
   "metadata": {},
   "outputs": [
    {
     "ename": "KeyError",
     "evalue": "'group'",
     "output_type": "error",
     "traceback": [
      "\u001b[1;31m---------------------------------------------------------------------------\u001b[0m",
      "\u001b[1;31mKeyError\u001b[0m                                  Traceback (most recent call last)",
      "\u001b[1;32mc:\\Users\\bovam\\WebstormProjects\\cake-dev.github.io\\D3_Practice\\data_notebook.ipynb Cell 66\u001b[0m in \u001b[0;36m<cell line: 1>\u001b[1;34m()\u001b[0m\n\u001b[1;32m----> <a href='vscode-notebook-cell:/c%3A/Users/bovam/WebstormProjects/cake-dev.github.io/D3_Practice/data_notebook.ipynb#Y122sZmlsZQ%3D%3D?line=0'>1</a>\u001b[0m gl \u001b[39m=\u001b[39m get_group_link_values(stack_net)\n",
      "\u001b[1;32mc:\\Users\\bovam\\WebstormProjects\\cake-dev.github.io\\D3_Practice\\data_notebook.ipynb Cell 66\u001b[0m in \u001b[0;36mget_group_link_values\u001b[1;34m(netjson)\u001b[0m\n\u001b[0;32m      <a href='vscode-notebook-cell:/c%3A/Users/bovam/WebstormProjects/cake-dev.github.io/D3_Practice/data_notebook.ipynb#Y122sZmlsZQ%3D%3D?line=3'>4</a>\u001b[0m     groups[node[\u001b[39m\"\u001b[39m\u001b[39mgroup\u001b[39m\u001b[39m\"\u001b[39m]] \u001b[39m=\u001b[39m \u001b[39m0\u001b[39m\n\u001b[0;32m      <a href='vscode-notebook-cell:/c%3A/Users/bovam/WebstormProjects/cake-dev.github.io/D3_Practice/data_notebook.ipynb#Y122sZmlsZQ%3D%3D?line=4'>5</a>\u001b[0m \u001b[39mfor\u001b[39;00m link \u001b[39min\u001b[39;00m netjson[\u001b[39m\"\u001b[39m\u001b[39mlinks\u001b[39m\u001b[39m\"\u001b[39m]:\n\u001b[1;32m----> <a href='vscode-notebook-cell:/c%3A/Users/bovam/WebstormProjects/cake-dev.github.io/D3_Practice/data_notebook.ipynb#Y122sZmlsZQ%3D%3D?line=5'>6</a>\u001b[0m     groups[link[\u001b[39m\"\u001b[39;49m\u001b[39mgroup\u001b[39;49m\u001b[39m\"\u001b[39;49m]] \u001b[39m+\u001b[39m\u001b[39m=\u001b[39m link[\u001b[39m\"\u001b[39m\u001b[39mvalue\u001b[39m\u001b[39m\"\u001b[39m]\n\u001b[0;32m      <a href='vscode-notebook-cell:/c%3A/Users/bovam/WebstormProjects/cake-dev.github.io/D3_Practice/data_notebook.ipynb#Y122sZmlsZQ%3D%3D?line=6'>7</a>\u001b[0m \u001b[39mreturn\u001b[39;00m groups\n",
      "\u001b[1;31mKeyError\u001b[0m: 'group'"
     ]
    }
   ],
   "source": [
    "gl = get_group_link_values(stack_net)"
   ]
  }
 ],
 "metadata": {
  "kernelspec": {
   "display_name": "Python 3.8.13 ('rstools')",
   "language": "python",
   "name": "python3"
  },
  "language_info": {
   "codemirror_mode": {
    "name": "ipython",
    "version": 3
   },
   "file_extension": ".py",
   "mimetype": "text/x-python",
   "name": "python",
   "nbconvert_exporter": "python",
   "pygments_lexer": "ipython3",
   "version": "3.8.13"
  },
  "orig_nbformat": 4,
  "vscode": {
   "interpreter": {
    "hash": "74433767b723a45c483350c3d47eaaf29169a313b081c7ff587871958aa1c787"
   }
  }
 },
 "nbformat": 4,
 "nbformat_minor": 2
}
